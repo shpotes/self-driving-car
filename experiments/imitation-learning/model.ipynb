{
 "cells": [
  {
   "cell_type": "code",
   "execution_count": 32,
   "metadata": {},
   "outputs": [],
   "source": [
    "from keras.models import Model\n",
    "from keras.layers import Reshape, Activation, Conv2D, Input, MaxPooling2D, BatchNormalization, Flatten, Dense, Lambda, Concatenate, AveragePooling2D\n",
    "from keras.layers.advanced_activations import LeakyReLU\n",
    "from utils import decode_netout, compute_overlap, compute_ap\n",
    "from keras.applications.mobilenet import MobileNet\n",
    "from keras.layers.merge import concatenate\n",
    "from keras.optimizers import SGD, Adam, RMSprop\n",
    "from preprocessing import BatchGenerator\n",
    "from keras.callbacks import EarlyStopping, ModelCheckpoint, TensorBoard\n",
    "from backend import TinyYoloFeature, MobileNetFeature, SqueezeNetFeature\n",
    "\n",
    "import tensorflow as tf\n",
    "import numpy as np\n",
    "import os\n",
    "import cv2"
   ]
  },
  {
   "cell_type": "code",
   "execution_count": 45,
   "metadata": {},
   "outputs": [],
   "source": [
    "class Vehicle(object):\n",
    "    def __init__(self, backend,\n",
    "                       input_size, \n",
    "                       labels,\n",
    "                       max_box_per_image=50,\n",
    "                       anchors=[0.57273, 0.677385, 1.87446, 2.06253, 3.33843, 5.47434, 7.88282, 3.52778, 9.77052, 9.16828]):\n",
    "\n",
    "        self.input_size = input_size        \n",
    "        self.labels = list(labels)\n",
    "        self.nb_class = len(self.labels)\n",
    "        self.nb_box = len(anchors)//2\n",
    "        self.class_wt = np.ones(self.nb_class, dtype='float32')\n",
    "        self.anchors = anchors\n",
    "\n",
    "        self.max_box_per_image = max_box_per_image\n",
    "\n",
    "        ##########################\n",
    "        # Make the model\n",
    "        ##########################\n",
    "\n",
    "        # make the feature extractor layers\n",
    "        input_image     = Input(shape=(self.input_size, self.input_size, 3))\n",
    "        self.true_boxes = Input(shape=(1, 1, 1, max_box_per_image , 4))  \n",
    "\n",
    "        if backend == 'SqueezeNet':\n",
    "            self.feature_extractor = SqueezeNetFeature(self.input_size)        \n",
    "        elif backend == 'MobileNet':\n",
    "            self.feature_extractor = MobileNetFeature(self.input_size)\n",
    "        elif backend == 'Tiny Yolo':\n",
    "            self.feature_extractor = TinyYoloFeature(self.input_size)\n",
    "        else:\n",
    "            raise Exception('Architecture not supported! Only support Tiny Yolo, MobileNet, SqueezeNet at the moment!')\n",
    "\n",
    "        print(self.feature_extractor.get_output_shape())    \n",
    "        self.grid_h, self.grid_w = self.feature_extractor.get_output_shape()        \n",
    "        features = self.feature_extractor.extract(input_image)            \n",
    "\n",
    "        # make the object detection layer\n",
    "        output = Conv2D(self.nb_box * (4 + 1 + self.nb_class), \n",
    "                        (1,1), strides=(1,1), \n",
    "                        padding='same', \n",
    "                        name='DetectionLayer', \n",
    "                        kernel_initializer='lecun_normal')(features)\n",
    "        output = Reshape((self.grid_h, self.grid_w, self.nb_box, 4 + 1 + self.nb_class))(output)\n",
    "        output = Lambda(lambda args: args[0])([output, self.true_boxes])\n",
    "\n",
    "        \n",
    "        \n",
    "        convdir  = Conv2D(2, (3, 3), activation='relu', padding='same', use_bias=False, name='dir1')(input_image)\n",
    "        convdir2 = Conv2D(2, (3, 3), activation='relu', padding='same', use_bias=False, name='dir2')(convdir)\n",
    "        pooldir = MaxPooling2D(pool_size=2, name='dir3')(convdir2)\n",
    "        \n",
    "        convdir1  = Conv2D(4, (3, 3), activation='relu', padding='same', use_bias=False, name='dir4')(pooldir)\n",
    "        convdir12 = Conv2D(4, (3, 3), activation='relu', padding='same', use_bias=False, name='dir5')(convdir1)\n",
    "        pooldir1 = AveragePooling2D(pool_size=2, name='dir6')(convdir12)\n",
    "        \n",
    "        flat1 = Flatten()(pooldir1)\n",
    "        flat2 = Flatten()(output)\n",
    "        \n",
    "        added = Concatenate()([flat1, flat2])\n",
    "        \n",
    "        #fc1 = Dense(32, activation='relu', name='fchingona')(added)\n",
    "        fc2 = Dense(6, activation='relu', name='stemen')(added)\n",
    "        \n",
    "        self.model = Model([input_image, self.true_boxes], [output, fc2])\n",
    "\n",
    "        # print a summary of the whole model\n",
    "        self.model.summary()"
   ]
  },
  {
   "cell_type": "code",
   "execution_count": 46,
   "metadata": {},
   "outputs": [
    {
     "name": "stdout",
     "output_type": "stream",
     "text": [
      "(15, 15)\n",
      "__________________________________________________________________________________________________\n",
      "Layer (type)                    Output Shape         Param #     Connected to                     \n",
      "==================================================================================================\n",
      "input_58 (InputLayer)           (None, 256, 256, 3)  0                                            \n",
      "__________________________________________________________________________________________________\n",
      "dir1 (Conv2D)                   (None, 256, 256, 2)  54          input_58[0][0]                   \n",
      "__________________________________________________________________________________________________\n",
      "dir2 (Conv2D)                   (None, 256, 256, 2)  36          dir1[0][0]                       \n",
      "__________________________________________________________________________________________________\n",
      "model_41 (Model)                (None, 15, 15, 512)  722496      input_58[0][0]                   \n",
      "__________________________________________________________________________________________________\n",
      "dir3 (MaxPooling2D)             (None, 128, 128, 2)  0           dir2[0][0]                       \n",
      "__________________________________________________________________________________________________\n",
      "DetectionLayer (Conv2D)         (None, 15, 15, 100)  51300       model_41[1][0]                   \n",
      "__________________________________________________________________________________________________\n",
      "dir4 (Conv2D)                   (None, 128, 128, 4)  72          dir3[0][0]                       \n",
      "__________________________________________________________________________________________________\n",
      "reshape_20 (Reshape)            (None, 15, 15, 10, 1 0           DetectionLayer[0][0]             \n",
      "__________________________________________________________________________________________________\n",
      "input_59 (InputLayer)           (None, 1, 1, 1, 50,  0                                            \n",
      "__________________________________________________________________________________________________\n",
      "dir5 (Conv2D)                   (None, 128, 128, 4)  144         dir4[0][0]                       \n",
      "__________________________________________________________________________________________________\n",
      "lambda_20 (Lambda)              (None, 15, 15, 10, 1 0           reshape_20[0][0]                 \n",
      "                                                                 input_59[0][0]                   \n",
      "__________________________________________________________________________________________________\n",
      "dir6 (AveragePooling2D)         (None, 64, 64, 4)    0           dir5[0][0]                       \n",
      "__________________________________________________________________________________________________\n",
      "flatten_32 (Flatten)            (None, 16384)        0           dir6[0][0]                       \n",
      "__________________________________________________________________________________________________\n",
      "flatten_33 (Flatten)            (None, 22500)        0           lambda_20[0][0]                  \n",
      "__________________________________________________________________________________________________\n",
      "concatenate_10 (Concatenate)    (None, 38884)        0           flatten_32[0][0]                 \n",
      "                                                                 flatten_33[0][0]                 \n",
      "__________________________________________________________________________________________________\n",
      "stemen (Dense)                  (None, 6)            233310      concatenate_10[0][0]             \n",
      "==================================================================================================\n",
      "Total params: 1,007,412\n",
      "Trainable params: 1,007,412\n",
      "Non-trainable params: 0\n",
      "__________________________________________________________________________________________________\n"
     ]
    }
   ],
   "source": [
    "v = Vehicle('SqueezeNet',\n",
    "     256,\n",
    "     [\"left_arrow\", \"person\", \"right_arrow\", \"sem\", \"stop\"],\n",
    "     anchors=[0.26,0.80, 0.29,0.40, 0.37,0.52, 0.46,0.63, 0.55,0.79, 0.57,1.87, 0.64,1.06, 0.99,1.52, 1.03,2.73, 1.52,4.59])"
   ]
  },
  {
   "cell_type": "code",
   "execution_count": 29,
   "metadata": {},
   "outputs": [
    {
     "data": {
      "text/plain": [
       "<keras.engine.training.Model at 0x7f53c067f390>"
      ]
     },
     "execution_count": 29,
     "metadata": {},
     "output_type": "execute_result"
    }
   ],
   "source": [
    "v.model"
   ]
  },
  {
   "cell_type": "code",
   "execution_count": null,
   "metadata": {},
   "outputs": [],
   "source": []
  }
 ],
 "metadata": {
  "kernelspec": {
   "display_name": "Python 3",
   "language": "python",
   "name": "python3"
  },
  "language_info": {
   "codemirror_mode": {
    "name": "ipython",
    "version": 3
   },
   "file_extension": ".py",
   "mimetype": "text/x-python",
   "name": "python",
   "nbconvert_exporter": "python",
   "pygments_lexer": "ipython3",
   "version": "3.6.7"
  }
 },
 "nbformat": 4,
 "nbformat_minor": 2
}
