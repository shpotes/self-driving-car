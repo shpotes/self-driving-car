{
 "cells": [
  {
   "cell_type": "code",
   "execution_count": 1,
   "metadata": {},
   "outputs": [
    {
     "name": "stderr",
     "output_type": "stream",
     "text": [
      "Using TensorFlow backend.\n"
     ]
    }
   ],
   "source": [
    "import argparse\n",
    "import os\n",
    "import cv2\n",
    "import numpy as np\n",
    "from tqdm import tqdm\n",
    "from preprocessing import parse_annotation\n",
    "from utils import draw_boxes\n",
    "from frontend import Vehicle\n",
    "import json"
   ]
  },
  {
   "cell_type": "code",
   "execution_count": 2,
   "metadata": {},
   "outputs": [],
   "source": [
    "def pred(config_path, weights_path, image_path):\n",
    "    with open(config_path) as config_buffer:    \n",
    "        config = json.load(config_buffer)\n",
    "\n",
    "    model = Vehicle(backend          = config['model']['backend'],\n",
    "                 input_size          = config['model']['input_size'], \n",
    "                 labels              = config['model']['labels'],\n",
    "                 actions             = config['model']['actions'],\n",
    "                 ob_weights          = config['model']['ob_weights'],\n",
    "                 max_box_per_image   = config['model']['max_box_per_image'],\n",
    "                 anchors             = config['model']['anchors'])\n",
    "\n",
    "    model.load_weights(weights_path)\n",
    "\n",
    "    if image_path[-4:] == '.mp4':\n",
    "        video_out = image_path[:-4] + '_detected' + image_path[-4:]\n",
    "        video_reader = cv2.VideoCapture(image_path)\n",
    "\n",
    "        nb_frames = int(video_reader.get(cv2.CAP_PROP_FRAME_COUNT))\n",
    "        frame_h = int(video_reader.get(cv2.CAP_PROP_FRAME_HEIGHT))\n",
    "        frame_w = int(video_reader.get(cv2.CAP_PROP_FRAME_WIDTH))\n",
    "\n",
    "        video_writer = cv2.VideoWriter(video_out,\n",
    "                               cv2.VideoWriter_fourcc(*'MPEG'), \n",
    "                               50.0, \n",
    "                               (frame_w, frame_h))\n",
    "\n",
    "        for i in tqdm(range(nb_frames)):\n",
    "            _, image = video_reader.read()\n",
    "            \n",
    "            boxes = model.predict(image)\n",
    "            image = draw_boxes(image, boxes, config['model']['labels'])\n",
    "\n",
    "            video_writer.write(np.uint8(image))\n",
    "\n",
    "        video_reader.release()\n",
    "        video_writer.release() \n",
    "    else:\n",
    "        image = cv2.imread(image_path)\n",
    "        nout = model.predict(image)[1]\n",
    "        print(nout)\n",
    "        return config['model']['actions'][np.argmax(nout)]"
   ]
  },
  {
   "cell_type": "code",
   "execution_count": 3,
   "metadata": {},
   "outputs": [
    {
     "name": "stdout",
     "output_type": "stream",
     "text": [
      "WARNING:tensorflow:From /home/santiago/anaconda3/envs/vehicle/lib/python3.6/site-packages/tensorflow/python/framework/op_def_library.py:263: colocate_with (from tensorflow.python.framework.ops) is deprecated and will be removed in a future version.\n",
      "Instructions for updating:\n",
      "Colocations handled automatically by placer.\n",
      "(15, 15)\n",
      "(15, 15)\n",
      "__________________________________________________________________________________________________\n",
      "Layer (type)                    Output Shape         Param #     Connected to                     \n",
      "==================================================================================================\n",
      "input_1 (InputLayer)            (None, 256, 256, 3)  0                                            \n",
      "__________________________________________________________________________________________________\n",
      "dir1 (Conv2D)                   (None, 256, 256, 2)  54          input_1[0][0]                    \n",
      "__________________________________________________________________________________________________\n",
      "dir2 (Conv2D)                   (None, 256, 256, 2)  36          dir1[0][0]                       \n",
      "__________________________________________________________________________________________________\n",
      "model_1 (Model)                 (None, 15, 15, 512)  722496      input_1[0][0]                    \n",
      "__________________________________________________________________________________________________\n",
      "dir3 (MaxPooling2D)             (None, 128, 128, 2)  0           dir2[0][0]                       \n",
      "__________________________________________________________________________________________________\n",
      "DetectionLayer (Conv2D)         (None, 15, 15, 100)  51300       model_1[1][0]                    \n",
      "__________________________________________________________________________________________________\n",
      "dir4 (Conv2D)                   (None, 128, 128, 4)  72          dir3[0][0]                       \n",
      "__________________________________________________________________________________________________\n",
      "reshape_1 (Reshape)             (None, 15, 15, 10, 1 0           DetectionLayer[0][0]             \n",
      "__________________________________________________________________________________________________\n",
      "input_2 (InputLayer)            (None, 1, 1, 1, 10,  0                                            \n",
      "__________________________________________________________________________________________________\n",
      "dir5 (Conv2D)                   (None, 128, 128, 4)  144         dir4[0][0]                       \n",
      "__________________________________________________________________________________________________\n",
      "obj_output (Lambda)             (None, 15, 15, 10, 1 0           reshape_1[0][0]                  \n",
      "                                                                 input_2[0][0]                    \n",
      "__________________________________________________________________________________________________\n",
      "dir6 (AveragePooling2D)         (None, 64, 64, 4)    0           dir5[0][0]                       \n",
      "__________________________________________________________________________________________________\n",
      "flatten_1 (Flatten)             (None, 16384)        0           dir6[0][0]                       \n",
      "__________________________________________________________________________________________________\n",
      "flatten_2 (Flatten)             (None, 22500)        0           obj_output[0][0]                 \n",
      "__________________________________________________________________________________________________\n",
      "concatenate_1 (Concatenate)     (None, 38884)        0           flatten_1[0][0]                  \n",
      "                                                                 flatten_2[0][0]                  \n",
      "__________________________________________________________________________________________________\n",
      "dir_output (Dense)              (None, 6)            233310      concatenate_1[0][0]              \n",
      "==================================================================================================\n",
      "Total params: 1,007,412\n",
      "Trainable params: 1,007,412\n",
      "Non-trainable params: 0\n",
      "__________________________________________________________________________________________________\n",
      "[[1.10115645e-13 7.89813921e-02 7.26052075e-18 9.11963999e-01\n",
      "  9.05464403e-03 1.07873608e-17]]\n"
     ]
    }
   ],
   "source": [
    "nout = pred('config.json', 'full_softmax.h5', 'data_test/images/26_1.jpg')"
   ]
  },
  {
   "cell_type": "code",
   "execution_count": 4,
   "metadata": {},
   "outputs": [
    {
     "data": {
      "text/plain": [
       "' forward_left'"
      ]
     },
     "execution_count": 4,
     "metadata": {},
     "output_type": "execute_result"
    }
   ],
   "source": [
    "nout"
   ]
  },
  {
   "cell_type": "code",
   "execution_count": null,
   "metadata": {},
   "outputs": [],
   "source": []
  }
 ],
 "metadata": {
  "kernelspec": {
   "display_name": "Python 3",
   "language": "python",
   "name": "python3"
  },
  "language_info": {
   "codemirror_mode": {
    "name": "ipython",
    "version": 3
   },
   "file_extension": ".py",
   "mimetype": "text/x-python",
   "name": "python",
   "nbconvert_exporter": "python",
   "pygments_lexer": "ipython3",
   "version": "3.6.7"
  }
 },
 "nbformat": 4,
 "nbformat_minor": 2
}
